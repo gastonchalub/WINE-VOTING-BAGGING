{
  "nbformat": 4,
  "nbformat_minor": 0,
  "metadata": {
    "colab": {
      "provenance": []
    },
    "kernelspec": {
      "name": "python3",
      "display_name": "Python 3"
    },
    "language_info": {
      "name": "python"
    }
  },
  "cells": [
    {
      "cell_type": "code",
      "execution_count": 1,
      "metadata": {
        "id": "u4wQVz46lRs5"
      },
      "outputs": [],
      "source": [
        "from sklearn.datasets import load_wine\n",
        "from sklearn.model_selection import train_test_split\n",
        "from sklearn.ensemble import VotingClassifier, BaggingClassifier\n",
        "from sklearn.tree import DecisionTreeClassifier\n",
        "from sklearn.svm import SVC\n",
        "from sklearn.linear_model import LogisticRegression\n",
        "\n",
        "# Cargar el conjunto de datos \"wine\"\n",
        "wine = load_wine()\n",
        "X, y = wine.data, wine.target\n"
      ]
    },
    {
      "cell_type": "code",
      "source": [
        "# Dividir los datos en conjuntos de entrenamiento y prueba\n",
        "X_train, X_test, y_train, y_test = train_test_split(X, y, test_size=0.2, random_state=42)\n",
        "\n",
        "# Definir los clasificadores\n",
        "clf1 = DecisionTreeClassifier()\n",
        "clf2 = SVC(probability=True)\n",
        "clf3 = LogisticRegression()\n",
        "\n",
        "# Crear el clasificador de \"voting\"\n",
        "voting_clf = VotingClassifier(estimators=[('dt', clf1), ('svc', clf2), ('lr', clf3)], voting='hard')\n",
        "\n",
        "\n",
        "# Entrenar el clasificador\n",
        "voting_clf.fit(X_train, y_train)\n",
        "\n",
        "# Evaluar el clasificador\n",
        "accuracy = voting_clf.score(X_test, y_test)\n",
        "print(\"Precisión del clasificador de 'voting':\", accuracy)\n"
      ],
      "metadata": {
        "colab": {
          "base_uri": "https://localhost:8080/"
        },
        "id": "wYXVlZpIlpZp",
        "outputId": "d63fbdb9-4192-47cd-ff92-8fda1cd49f34"
      },
      "execution_count": 6,
      "outputs": [
        {
          "output_type": "stream",
          "name": "stdout",
          "text": [
            "Precisión del clasificador de 'voting': 0.9444444444444444\n"
          ]
        },
        {
          "output_type": "stream",
          "name": "stderr",
          "text": [
            "/usr/local/lib/python3.10/dist-packages/sklearn/linear_model/_logistic.py:458: ConvergenceWarning: lbfgs failed to converge (status=1):\n",
            "STOP: TOTAL NO. of ITERATIONS REACHED LIMIT.\n",
            "\n",
            "Increase the number of iterations (max_iter) or scale the data as shown in:\n",
            "    https://scikit-learn.org/stable/modules/preprocessing.html\n",
            "Please also refer to the documentation for alternative solver options:\n",
            "    https://scikit-learn.org/stable/modules/linear_model.html#logistic-regression\n",
            "  n_iter_i = _check_optimize_result(\n"
          ]
        }
      ]
    },
    {
      "cell_type": "code",
      "source": [
        "# Definir el clasificador base\n",
        "base_classifier = DecisionTreeClassifier()\n",
        "\n",
        "# Crear el clasificador de \"bagging\"\n",
        "bagging_clf = BaggingClassifier(base_classifier, n_estimators=10, random_state=42)\n",
        "\n",
        "# Entrenar el clasificador\n",
        "bagging_clf.fit(X_train, y_train)\n",
        "\n",
        "# Evaluar el clasificador\n",
        "accuracy = bagging_clf.score(X_test, y_test)\n",
        "print(\"Precisión del clasificador de 'bagging':\", accuracy)\n"
      ],
      "metadata": {
        "colab": {
          "base_uri": "https://localhost:8080/"
        },
        "id": "A4P37-2Omltg",
        "outputId": "57cac025-429b-4f95-a151-48e0c6410c84"
      },
      "execution_count": 7,
      "outputs": [
        {
          "output_type": "stream",
          "name": "stdout",
          "text": [
            "Precisión del clasificador de 'bagging': 0.9722222222222222\n"
          ]
        }
      ]
    }
  ]
}